{
 "cells": [
  {
   "cell_type": "code",
   "execution_count": null,
   "metadata": {},
   "outputs": [],
   "source": [
    "import psycopg2\n",
    "from psycopg2.extensions import ISOLATION_LEVEL_AUTOCOMMIT\n",
    "import pandas as pd\n",
    "import seaborn as sns\n",
    "from flask import Flask, request\n",
    "import matplotlib.pyplot as plt"
   ]
  },
  {
   "cell_type": "code",
   "execution_count": null,
   "metadata": {},
   "outputs": [],
   "source": [
    "con = psycopg2.connect(host='localhost', database='imobiliaria',user='postgres', password='postgres')\n",
    "cur = con.cursor()\n",
    "\n",
    "app = Flask(__name__)"
   ]
  },
  {
   "cell_type": "code",
   "execution_count": null,
   "metadata": {},
   "outputs": [],
   "source": [
    "# Criar endpoint de get, que deve selecionar os dados dentro de um intervalo de area, \n",
    "# plotar o gráfico de dispersão em que o eixo x é a área e o eixo y o preco e retornar o json com esses dados;\n",
    "\n",
    "\n",
    "@app.route(\"/area/<a>/<b>\", methods =['GET'])\n",
    "def area(a,b):\n",
    "    query = \"SELECT area, preco FROM info_casas WHERE  area > {a}  AND area < {b}\".format(a=a,b=b)\n",
    "    try:\n",
    "        df = pd.read_sql(query,con)\n",
    "        sns.scatterplot(x=df.area, y=df.preco)\n",
    "        plt.show()\n",
    "        return df.to_json(orient='records'), 200\n",
    "    except:\n",
    "        return \"Não foi possível fazer SELECT na tabela casas.\", 500\n"
   ]
  },
  {
   "cell_type": "code",
   "execution_count": null,
   "metadata": {},
   "outputs": [],
   "source": [
    "#Criar endpoint de get, que deve selecionar os 15 dados com maior preco em ordem decrescente, \n",
    "#plotar o gráfico de linha em que o eixo x é o preco e o eixo y a qte_quartos e retornar o json com esses dados;\n",
    "\n",
    "\n",
    "@app.route(\"/15\", methods =['GET'])\n",
    "def top():\n",
    "    \n",
    "    query = \"SELECT qte_quartos, preco FROM info_casas ORDER BY preco DESC limit 15\"\n",
    "    try:\n",
    "        df = pd.read_sql(query,con)\n",
    "        sns.lineplot(x=df.preco, y=df.qte_quartos)\n",
    "        plt.show()\n",
    "        return df.to_json(orient='records'), 200\n",
    "    except:\n",
    "        return \"Não foi possível fazer SELECT na tabela casas.\", 500\n"
   ]
  },
  {
   "cell_type": "code",
   "execution_count": null,
   "metadata": {},
   "outputs": [],
   "source": [
    "#Criar endpoint de get, que deve selecionar todos os dados com determinada quantidade de qte_banheiros,\n",
    "#plotar o gráfico de barra em que o eixo x é o qte_banheiros e o eixo y a qte_quartos e retornar o json com esses dados;\n",
    "\n",
    "\n",
    "\n",
    "@app.route(\"/ban/<a>/<b>\", methods =['GET'])\n",
    "def ban(a,b):\n",
    "    query = \"SELECT qte_banheiros, qte_quartos FROM info_casas WHERE qte_banheiros > {a}  AND qte_banheiros < {b}\".format(a=a,b=b)\n",
    "    try:\n",
    "        df = pd.read_sql(query,con)\n",
    "        sns.countplot(x=df.qte_banheiros, data=df)\n",
    "        plt.show()\n",
    "        return df.to_json(orient='records'), 200\n",
    "    except:\n",
    "        return \"Não foi possível fazer SELECT na tabela casas.\", 500\n"
   ]
  },
  {
   "cell_type": "code",
   "execution_count": null,
   "metadata": {},
   "outputs": [],
   "source": [
    "#Criar endpoint de put, que atualize os dados pelo cep;\n",
    "\n",
    "\n",
    "@app.route(\"/atualizacao\", methods =['PUT'])\n",
    "def atualizacao():\n",
    "    querystring_args = request.args.to_dict()\n",
    "    post_args = request.json\n",
    "    try:\n",
    "        sql =\"UPDATE info_casas SET qte_quartos = {}, qte_banheiros = {}, area={}, preco={} WHERE cep = {}\".format(post_args[\"qte_quartos\"] ,post_args[\"qte_banheiros\"], post_args[\"area\"], post_args[\"preco\"], post_args[\"cep\"])\n",
    "        cur.execute(sql)\n",
    "        con.commit()\n",
    "        return \"UPDATE com sucesso\", 200\n",
    "    except:\n",
    "        return \"Não foi possível fazer UPDATE na tabela casas.\", 500\n"
   ]
  },
  {
   "cell_type": "code",
   "execution_count": null,
   "metadata": {},
   "outputs": [],
   "source": [
    "# Criar endpoint de delete, que delete os dados pelo cep;\n",
    "\n",
    "\n",
    "\n",
    "@app.route(\"/delete\", methods =['DELETE'])\n",
    "def delete():\n",
    "    querystring_args = request.args.to_dict()\n",
    "    post_args = request.json\n",
    "    try:\n",
    "        sql =\"DELETE FROM info_casas  WHERE cep = {}\".format(post_args[\"cep\"])\n",
    "        cur.execute(sql)\n",
    "        con.commit()\n",
    "        return \"Delete com sucesso\", 200\n",
    "    except:\n",
    "        return \"Não foi possível fazer o DELETE na tabela casas.\", 500\n"
   ]
  },
  {
   "cell_type": "code",
   "execution_count": null,
   "metadata": {},
   "outputs": [],
   "source": [
    "def imobiliaria(request):\n",
    "    if request.path == '/area/<a>/<b>':\n",
    "        return area()\n",
    "    elif request.path == \"/15\":\n",
    "        return top()\n",
    "    elif request.path == \"/ban/<a>/<b>\":\n",
    "        return ban()\n",
    "    elif request.path == \"/atualizacao\":\n",
    "        return atualizacao()\n",
    "    elif request.path == \"/delete\":\n",
    "        return delete()\n",
    "    else:\n",
    "        return 'Método não suportado.', 400\n",
    "\n",
    "\n",
    "app.run()"
   ]
  },
  {
   "cell_type": "code",
   "execution_count": null,
   "metadata": {},
   "outputs": [],
   "source": []
  }
 ],
 "metadata": {
  "kernelspec": {
   "display_name": "Python 3",
   "language": "python",
   "name": "python3"
  },
  "language_info": {
   "codemirror_mode": {
    "name": "ipython",
    "version": 3
   },
   "file_extension": ".py",
   "mimetype": "text/x-python",
   "name": "python",
   "nbconvert_exporter": "python",
   "pygments_lexer": "ipython3",
   "version": "3.6.10"
  }
 },
 "nbformat": 4,
 "nbformat_minor": 2
}
